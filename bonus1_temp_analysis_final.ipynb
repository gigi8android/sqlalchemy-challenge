{
 "cells": [
  {
   "cell_type": "markdown",
   "metadata": {},
   "source": [
    "# Bonus: Temperature Analysis I"
   ]
  },
  {
   "cell_type": "code",
   "execution_count": 1,
   "metadata": {
    "ExecuteTime": {
     "end_time": "2022-01-23T06:02:47.774865Z",
     "start_time": "2022-01-23T06:02:47.287677Z"
    }
   },
   "outputs": [],
   "source": [
    "import pandas as pd\n",
    "from datetime import datetime as dt\n",
    "\n",
    "import warnings\n",
    "warnings.filterwarnings('ignore')"
   ]
  },
  {
   "cell_type": "code",
   "execution_count": 2,
   "metadata": {
    "ExecuteTime": {
     "end_time": "2022-01-23T06:02:47.805681Z",
     "start_time": "2022-01-23T06:02:47.774865Z"
    }
   },
   "outputs": [
    {
     "data": {
      "text/html": [
       "<div>\n",
       "<style scoped>\n",
       "    .dataframe tbody tr th:only-of-type {\n",
       "        vertical-align: middle;\n",
       "    }\n",
       "\n",
       "    .dataframe tbody tr th {\n",
       "        vertical-align: top;\n",
       "    }\n",
       "\n",
       "    .dataframe thead th {\n",
       "        text-align: right;\n",
       "    }\n",
       "</style>\n",
       "<table border=\"1\" class=\"dataframe\">\n",
       "  <thead>\n",
       "    <tr style=\"text-align: right;\">\n",
       "      <th></th>\n",
       "      <th>station</th>\n",
       "      <th>date</th>\n",
       "      <th>prcp</th>\n",
       "      <th>tobs</th>\n",
       "    </tr>\n",
       "  </thead>\n",
       "  <tbody>\n",
       "    <tr>\n",
       "      <th>0</th>\n",
       "      <td>USC00519397</td>\n",
       "      <td>2010-01-01</td>\n",
       "      <td>0.08</td>\n",
       "      <td>65</td>\n",
       "    </tr>\n",
       "    <tr>\n",
       "      <th>1</th>\n",
       "      <td>USC00519397</td>\n",
       "      <td>2010-01-02</td>\n",
       "      <td>0.00</td>\n",
       "      <td>63</td>\n",
       "    </tr>\n",
       "    <tr>\n",
       "      <th>2</th>\n",
       "      <td>USC00519397</td>\n",
       "      <td>2010-01-03</td>\n",
       "      <td>0.00</td>\n",
       "      <td>74</td>\n",
       "    </tr>\n",
       "    <tr>\n",
       "      <th>3</th>\n",
       "      <td>USC00519397</td>\n",
       "      <td>2010-01-04</td>\n",
       "      <td>0.00</td>\n",
       "      <td>76</td>\n",
       "    </tr>\n",
       "    <tr>\n",
       "      <th>4</th>\n",
       "      <td>USC00519397</td>\n",
       "      <td>2010-01-06</td>\n",
       "      <td>NaN</td>\n",
       "      <td>73</td>\n",
       "    </tr>\n",
       "  </tbody>\n",
       "</table>\n",
       "</div>"
      ],
      "text/plain": [
       "       station        date  prcp  tobs\n",
       "0  USC00519397  2010-01-01  0.08    65\n",
       "1  USC00519397  2010-01-02  0.00    63\n",
       "2  USC00519397  2010-01-03  0.00    74\n",
       "3  USC00519397  2010-01-04  0.00    76\n",
       "4  USC00519397  2010-01-06   NaN    73"
      ]
     },
     "execution_count": 2,
     "metadata": {},
     "output_type": "execute_result"
    }
   ],
   "source": [
    "# Read the csv file\n",
    "df = pd.read_csv('Resources/hawaii_measurements.csv')\n",
    "df.head()"
   ]
  },
  {
   "cell_type": "code",
   "execution_count": 3,
   "metadata": {
    "ExecuteTime": {
     "end_time": "2022-01-23T06:02:47.836936Z",
     "start_time": "2022-01-23T06:02:47.808682Z"
    }
   },
   "outputs": [
    {
     "name": "stdout",
     "output_type": "stream",
     "text": [
      "<class 'pandas.core.frame.DataFrame'>\n",
      "RangeIndex: 19550 entries, 0 to 19549\n",
      "Data columns (total 4 columns):\n",
      " #   Column   Non-Null Count  Dtype         \n",
      "---  ------   --------------  -----         \n",
      " 0   station  19550 non-null  object        \n",
      " 1   date     19550 non-null  datetime64[ns]\n",
      " 2   prcp     18103 non-null  float64       \n",
      " 3   tobs     19550 non-null  int64         \n",
      "dtypes: datetime64[ns](1), float64(1), int64(1), object(1)\n",
      "memory usage: 611.1+ KB\n"
     ]
    }
   ],
   "source": [
    "# Convert the date column format from string to datetime\n",
    "df['date'] = pd.to_datetime(df['date'])\n",
    "df.info()"
   ]
  },
  {
   "cell_type": "code",
   "execution_count": 4,
   "metadata": {
    "ExecuteTime": {
     "end_time": "2022-01-23T06:02:47.867940Z",
     "start_time": "2022-01-23T06:02:47.840447Z"
    }
   },
   "outputs": [
    {
     "data": {
      "text/html": [
       "<div>\n",
       "<style scoped>\n",
       "    .dataframe tbody tr th:only-of-type {\n",
       "        vertical-align: middle;\n",
       "    }\n",
       "\n",
       "    .dataframe tbody tr th {\n",
       "        vertical-align: top;\n",
       "    }\n",
       "\n",
       "    .dataframe thead th {\n",
       "        text-align: right;\n",
       "    }\n",
       "</style>\n",
       "<table border=\"1\" class=\"dataframe\">\n",
       "  <thead>\n",
       "    <tr style=\"text-align: right;\">\n",
       "      <th></th>\n",
       "      <th>station</th>\n",
       "      <th>prcp</th>\n",
       "      <th>tobs</th>\n",
       "    </tr>\n",
       "    <tr>\n",
       "      <th>date</th>\n",
       "      <th></th>\n",
       "      <th></th>\n",
       "      <th></th>\n",
       "    </tr>\n",
       "  </thead>\n",
       "  <tbody>\n",
       "    <tr>\n",
       "      <th>2010-01-01</th>\n",
       "      <td>USC00519397</td>\n",
       "      <td>0.08</td>\n",
       "      <td>65</td>\n",
       "    </tr>\n",
       "    <tr>\n",
       "      <th>2010-01-02</th>\n",
       "      <td>USC00519397</td>\n",
       "      <td>0.00</td>\n",
       "      <td>63</td>\n",
       "    </tr>\n",
       "    <tr>\n",
       "      <th>2010-01-03</th>\n",
       "      <td>USC00519397</td>\n",
       "      <td>0.00</td>\n",
       "      <td>74</td>\n",
       "    </tr>\n",
       "    <tr>\n",
       "      <th>2010-01-04</th>\n",
       "      <td>USC00519397</td>\n",
       "      <td>0.00</td>\n",
       "      <td>76</td>\n",
       "    </tr>\n",
       "    <tr>\n",
       "      <th>2010-01-06</th>\n",
       "      <td>USC00519397</td>\n",
       "      <td>NaN</td>\n",
       "      <td>73</td>\n",
       "    </tr>\n",
       "    <tr>\n",
       "      <th>...</th>\n",
       "      <td>...</td>\n",
       "      <td>...</td>\n",
       "      <td>...</td>\n",
       "    </tr>\n",
       "    <tr>\n",
       "      <th>2017-08-19</th>\n",
       "      <td>USC00516128</td>\n",
       "      <td>0.09</td>\n",
       "      <td>71</td>\n",
       "    </tr>\n",
       "    <tr>\n",
       "      <th>2017-08-20</th>\n",
       "      <td>USC00516128</td>\n",
       "      <td>NaN</td>\n",
       "      <td>78</td>\n",
       "    </tr>\n",
       "    <tr>\n",
       "      <th>2017-08-21</th>\n",
       "      <td>USC00516128</td>\n",
       "      <td>0.56</td>\n",
       "      <td>76</td>\n",
       "    </tr>\n",
       "    <tr>\n",
       "      <th>2017-08-22</th>\n",
       "      <td>USC00516128</td>\n",
       "      <td>0.50</td>\n",
       "      <td>76</td>\n",
       "    </tr>\n",
       "    <tr>\n",
       "      <th>2017-08-23</th>\n",
       "      <td>USC00516128</td>\n",
       "      <td>0.45</td>\n",
       "      <td>76</td>\n",
       "    </tr>\n",
       "  </tbody>\n",
       "</table>\n",
       "<p>19550 rows × 3 columns</p>\n",
       "</div>"
      ],
      "text/plain": [
       "                station  prcp  tobs\n",
       "date                               \n",
       "2010-01-01  USC00519397  0.08    65\n",
       "2010-01-02  USC00519397  0.00    63\n",
       "2010-01-03  USC00519397  0.00    74\n",
       "2010-01-04  USC00519397  0.00    76\n",
       "2010-01-06  USC00519397   NaN    73\n",
       "...                 ...   ...   ...\n",
       "2017-08-19  USC00516128  0.09    71\n",
       "2017-08-20  USC00516128   NaN    78\n",
       "2017-08-21  USC00516128  0.56    76\n",
       "2017-08-22  USC00516128  0.50    76\n",
       "2017-08-23  USC00516128  0.45    76\n",
       "\n",
       "[19550 rows x 3 columns]"
      ]
     },
     "execution_count": 4,
     "metadata": {},
     "output_type": "execute_result"
    }
   ],
   "source": [
    "# Set the date column as the DataFrame index\n",
    "date_ind_df = []\n",
    "date_ind_df = df.set_index(\"date\")\n",
    "date_ind_df"
   ]
  },
  {
   "cell_type": "code",
   "execution_count": 5,
   "metadata": {
    "ExecuteTime": {
     "end_time": "2022-01-23T06:02:47.883931Z",
     "start_time": "2022-01-23T06:02:47.869930Z"
    }
   },
   "outputs": [
    {
     "data": {
      "text/html": [
       "<div>\n",
       "<style scoped>\n",
       "    .dataframe tbody tr th:only-of-type {\n",
       "        vertical-align: middle;\n",
       "    }\n",
       "\n",
       "    .dataframe tbody tr th {\n",
       "        vertical-align: top;\n",
       "    }\n",
       "\n",
       "    .dataframe thead th {\n",
       "        text-align: right;\n",
       "    }\n",
       "</style>\n",
       "<table border=\"1\" class=\"dataframe\">\n",
       "  <thead>\n",
       "    <tr style=\"text-align: right;\">\n",
       "      <th></th>\n",
       "      <th>station</th>\n",
       "      <th>prcp</th>\n",
       "      <th>tobs</th>\n",
       "    </tr>\n",
       "  </thead>\n",
       "  <tbody>\n",
       "    <tr>\n",
       "      <th>0</th>\n",
       "      <td>USC00519397</td>\n",
       "      <td>0.08</td>\n",
       "      <td>65</td>\n",
       "    </tr>\n",
       "    <tr>\n",
       "      <th>1</th>\n",
       "      <td>USC00519397</td>\n",
       "      <td>0.00</td>\n",
       "      <td>63</td>\n",
       "    </tr>\n",
       "    <tr>\n",
       "      <th>2</th>\n",
       "      <td>USC00519397</td>\n",
       "      <td>0.00</td>\n",
       "      <td>74</td>\n",
       "    </tr>\n",
       "    <tr>\n",
       "      <th>3</th>\n",
       "      <td>USC00519397</td>\n",
       "      <td>0.00</td>\n",
       "      <td>76</td>\n",
       "    </tr>\n",
       "    <tr>\n",
       "      <th>4</th>\n",
       "      <td>USC00519397</td>\n",
       "      <td>NaN</td>\n",
       "      <td>73</td>\n",
       "    </tr>\n",
       "  </tbody>\n",
       "</table>\n",
       "</div>"
      ],
      "text/plain": [
       "       station  prcp  tobs\n",
       "0  USC00519397  0.08    65\n",
       "1  USC00519397  0.00    63\n",
       "2  USC00519397  0.00    74\n",
       "3  USC00519397  0.00    76\n",
       "4  USC00519397   NaN    73"
      ]
     },
     "execution_count": 5,
     "metadata": {},
     "output_type": "execute_result"
    }
   ],
   "source": [
    "# Drop the date index column\n",
    "drop_date_df = []\n",
    "drop_date_df = date_ind_df.reset_index(drop=True)\n",
    "drop_date_df.head()"
   ]
  },
  {
   "cell_type": "markdown",
   "metadata": {},
   "source": [
    "### Compare June and December data across all years "
   ]
  },
  {
   "cell_type": "code",
   "execution_count": 6,
   "metadata": {
    "ExecuteTime": {
     "end_time": "2022-01-23T06:02:48.264195Z",
     "start_time": "2022-01-23T06:02:47.884932Z"
    }
   },
   "outputs": [],
   "source": [
    "# Import dependencies\n",
    "from scipy import stats\n",
    "from scipy.stats import ttest_ind"
   ]
  },
  {
   "cell_type": "code",
   "execution_count": 7,
   "metadata": {
    "ExecuteTime": {
     "end_time": "2022-01-23T06:02:48.279171Z",
     "start_time": "2022-01-23T06:02:48.266200Z"
    }
   },
   "outputs": [],
   "source": [
    "# Filter data for the desired months, i.e. June & December\n",
    "june_df = df[df[\"date\"].dt.month == 6]"
   ]
  },
  {
   "cell_type": "code",
   "execution_count": 8,
   "metadata": {
    "ExecuteTime": {
     "end_time": "2022-01-23T06:02:48.294444Z",
     "start_time": "2022-01-23T06:02:48.281175Z"
    }
   },
   "outputs": [
    {
     "name": "stdout",
     "output_type": "stream",
     "text": [
      "\u001b[94m\u001b[1mThe average temperature for June is: 74.94412\u001b[0m\n"
     ]
    }
   ],
   "source": [
    "# Identify the average temperature for June\n",
    "june_df_mean = june_df['tobs'].mean()\n",
    "\n",
    "print(f\"\\033[94m\\033[1mThe average temperature for June is: {round(june_df_mean,5)}\\033[0m\")"
   ]
  },
  {
   "cell_type": "code",
   "execution_count": 9,
   "metadata": {
    "ExecuteTime": {
     "end_time": "2022-01-23T06:02:48.309449Z",
     "start_time": "2022-01-23T06:02:48.296446Z"
    }
   },
   "outputs": [],
   "source": [
    "# Filter data for the desired months, i.e. June & December\n",
    "december_df = df[df[\"date\"].dt.month==12]"
   ]
  },
  {
   "cell_type": "code",
   "execution_count": 10,
   "metadata": {
    "ExecuteTime": {
     "end_time": "2022-01-23T06:02:48.324453Z",
     "start_time": "2022-01-23T06:02:48.311450Z"
    }
   },
   "outputs": [
    {
     "name": "stdout",
     "output_type": "stream",
     "text": [
      "\u001b[94m\u001b[1mThe average temperature for December is: 71.04153\u001b[0m\n"
     ]
    }
   ],
   "source": [
    "# Identify the average temperature for December\n",
    "december_df_mean = december_df['tobs'].mean()\n",
    "print(f\"\\033[94m\\033[1mThe average temperature for December is: {round(december_df_mean,5)}\\033[0m\")"
   ]
  },
  {
   "cell_type": "code",
   "execution_count": 11,
   "metadata": {
    "ExecuteTime": {
     "end_time": "2022-01-23T06:02:48.339812Z",
     "start_time": "2022-01-23T06:02:48.326453Z"
    }
   },
   "outputs": [
    {
     "name": "stdout",
     "output_type": "stream",
     "text": [
      "Ttest_indResult(statistic=31.355036920962423, pvalue=4.193529835915755e-187)\n"
     ]
    }
   ],
   "source": [
    "# Run paired t-test\n",
    "res = stats.ttest_ind(june_df['tobs'], december_df['tobs'], equal_var=False)\n",
    "print(f\"{res}\")"
   ]
  },
  {
   "cell_type": "code",
   "execution_count": 12,
   "metadata": {
    "ExecuteTime": {
     "end_time": "2022-01-23T06:02:48.355460Z",
     "start_time": "2022-01-23T06:02:48.343456Z"
    }
   },
   "outputs": [
    {
     "name": "stdout",
     "output_type": "stream",
     "text": [
      "\u001b[94m\u001b[1mThe T-Test t-value is: 31.355036920962423, and p-value is: 4.193529835915755e-187\u001b[0m\n"
     ]
    }
   ],
   "source": [
    "print(f\"\\033[94m\\033[1mThe T-Test t-value is: {res[0]}, and p-value is: {res[1]}\\033[0m\")"
   ]
  },
  {
   "cell_type": "markdown",
   "metadata": {},
   "source": [
    "### Analysis"
   ]
  },
  {
   "cell_type": "markdown",
   "metadata": {},
   "source": [
    "##### Perform data analysis for June & December temperatures"
   ]
  },
  {
   "cell_type": "code",
   "execution_count": 13,
   "metadata": {
    "ExecuteTime": {
     "end_time": "2022-01-23T06:02:48.387532Z",
     "start_time": "2022-01-23T06:02:48.356500Z"
    }
   },
   "outputs": [],
   "source": [
    "# Create collections of temperature data for June\n",
    "june_tmp_df = []\n",
    "june_tmp_df = date_ind_df.reset_index()\n",
    "june_tmp_df = june_tmp_df[pd.to_datetime(june_tmp_df['date']).dt.month==6].reset_index().dropna()\n",
    "\n",
    "# Convert dataframe to list for plotting graph\n",
    "june_tmp_list = june_tmp_df['tobs'].values.tolist()"
   ]
  },
  {
   "cell_type": "code",
   "execution_count": 14,
   "metadata": {
    "ExecuteTime": {
     "end_time": "2022-01-23T06:02:48.419539Z",
     "start_time": "2022-01-23T06:02:48.389531Z"
    }
   },
   "outputs": [],
   "source": [
    "# Create collections of temperature data for December\n",
    "december_tmp_df = []\n",
    "december_tmp_df = date_ind_df.reset_index()\n",
    "december_tmp_df = december_tmp_df[pd.to_datetime(december_tmp_df['date']).dt.month==12].reset_index().dropna()\n",
    "\n",
    "# Convert dataframe to list for plotting graph\n",
    "december_tmp_list = december_tmp_df['tobs'].values.tolist()"
   ]
  },
  {
   "cell_type": "code",
   "execution_count": 15,
   "metadata": {
    "ExecuteTime": {
     "end_time": "2022-01-23T06:02:49.484917Z",
     "start_time": "2022-01-23T06:02:48.420540Z"
    }
   },
   "outputs": [
    {
     "data": {
      "image/png": "[encoded data removed]",
      "text/plain": [
       "<Figure size 720x360 with 1 Axes>"
      ]
     },
     "metadata": {
      "needs_background": "light"
     },
     "output_type": "display_data"
    }
   ],
   "source": [
    "# Plot graph for the collections of temperatures for June and December\n",
    "import matplotlib.pyplot as plt\n",
    "\n",
    "plt.figure(figsize=(10, 5)) \n",
    "ax = plt.subplot(1, 1, 1)\n",
    "\n",
    "# Plot histograms graph, show legends, title and save to Images folder\n",
    "plt.hist(june_tmp_list, density=True, alpha=0.5, label=\"June Temperatures\",color='green')\n",
    "plt.hist(december_tmp_list, density=True, alpha=0.5, label=\"December Temperatures\",color='red')\n",
    "plt.legend()\n",
    "plt.title(\"June vs December Temperature\", fontsize=18)\n",
    "ax.axes.get_yaxis().set_visible(False)\n",
    "ax.xaxis.grid(True, which='major',linestyle='-.')\n",
    "plt.savefig(\"Images/june_vs_december_histplot.png\")\n",
    "plt.show()"
   ]
  },
  {
   "cell_type": "code",
   "execution_count": 16,
   "metadata": {
    "ExecuteTime": {
     "end_time": "2022-01-23T06:02:49.516407Z",
     "start_time": "2022-01-23T06:02:49.485917Z"
    }
   },
   "outputs": [],
   "source": [
    "# Print statistical data for June & December\n",
    "j = d = []\n",
    "j = june_tmp_df.describe()\n",
    "j = j[['tobs']]\n",
    "d = december_tmp_df .describe()\n",
    "d = d[['tobs']]\n",
    "\n",
    "j = j.rename(columns={\"tobs\" : \"june_tobs\"})\n",
    "d = d.rename(columns={\"tobs\" : \"dec_tobs\"})"
   ]
  },
  {
   "cell_type": "code",
   "execution_count": 17,
   "metadata": {
    "ExecuteTime": {
     "end_time": "2022-01-23T06:02:49.532408Z",
     "start_time": "2022-01-23T06:02:49.518410Z"
    }
   },
   "outputs": [
    {
     "data": {
      "text/html": [
       "<div>\n",
       "<style scoped>\n",
       "    .dataframe tbody tr th:only-of-type {\n",
       "        vertical-align: middle;\n",
       "    }\n",
       "\n",
       "    .dataframe tbody tr th {\n",
       "        vertical-align: top;\n",
       "    }\n",
       "\n",
       "    .dataframe thead th {\n",
       "        text-align: right;\n",
       "    }\n",
       "</style>\n",
       "<table border=\"1\" class=\"dataframe\">\n",
       "  <thead>\n",
       "    <tr style=\"text-align: right;\">\n",
       "      <th></th>\n",
       "      <th>count</th>\n",
       "      <th>mean</th>\n",
       "      <th>std</th>\n",
       "      <th>min</th>\n",
       "      <th>25%</th>\n",
       "      <th>50%</th>\n",
       "      <th>75%</th>\n",
       "      <th>max</th>\n",
       "    </tr>\n",
       "  </thead>\n",
       "  <tbody>\n",
       "    <tr>\n",
       "      <th>june_tobs</th>\n",
       "      <td>1574.0</td>\n",
       "      <td>74.89</td>\n",
       "      <td>3.26</td>\n",
       "      <td>65.0</td>\n",
       "      <td>72.0</td>\n",
       "      <td>75.0</td>\n",
       "      <td>77.0</td>\n",
       "      <td>85.0</td>\n",
       "    </tr>\n",
       "    <tr>\n",
       "      <th>dec_tobs</th>\n",
       "      <td>1405.0</td>\n",
       "      <td>70.93</td>\n",
       "      <td>3.74</td>\n",
       "      <td>56.0</td>\n",
       "      <td>69.0</td>\n",
       "      <td>71.0</td>\n",
       "      <td>74.0</td>\n",
       "      <td>81.0</td>\n",
       "    </tr>\n",
       "  </tbody>\n",
       "</table>\n",
       "</div>"
      ],
      "text/plain": [
       "            count   mean   std   min   25%   50%   75%   max\n",
       "june_tobs  1574.0  74.89  3.26  65.0  72.0  75.0  77.0  85.0\n",
       "dec_tobs   1405.0  70.93  3.74  56.0  69.0  71.0  74.0  81.0"
      ]
     },
     "execution_count": 17,
     "metadata": {},
     "output_type": "execute_result"
    }
   ],
   "source": [
    "j_d_concatenate = []\n",
    "j_d_concatenate = pd.concat([j, d], axis=1)\n",
    "j_d_concatenate = j_d_concatenate.round(decimals=2).transpose()\n",
    "j_d_concatenate"
   ]
  },
  {
   "cell_type": "code",
   "execution_count": 18,
   "metadata": {
    "ExecuteTime": {
     "end_time": "2022-01-23T06:02:49.673535Z",
     "start_time": "2022-01-23T06:02:49.534410Z"
    }
   },
   "outputs": [
    {
     "data": {
      "image/png": "[encoded data removed]",
      "text/plain": [
       "<Figure size 432x288 with 1 Axes>"
      ]
     },
     "metadata": {
      "needs_background": "light"
     },
     "output_type": "display_data"
    }
   ],
   "source": [
    "# Plot graph for the collections of temperatures for June and December\n",
    "x_june = june_df['tobs']\n",
    "x_dec = december_df['tobs']\n",
    "\n",
    "fig1, ax1 = plt.subplots()\n",
    "ax1.boxplot([x_june , x_dec],\n",
    "            patch_artist=True,\n",
    "            notch=True,\n",
    "            whiskerprops=dict(color=\"blue\"),\n",
    "            medianprops=dict(color=\"yellow\"),\n",
    "            boxprops=dict(facecolor=\"blue\", color=\"blue\"),\n",
    "            capprops=dict(color=\"blue\"),\n",
    "            flierprops=dict(markerfacecolor='cyan', markeredgecolor=\"black\", marker='o')\n",
    "           )\n",
    "\n",
    "# Show legends, title and save to Images folder\n",
    "labels = [\"June\", \"December\"]\n",
    "plt.title(\"June vs December Temperature\")\n",
    "ax1.set_ylabel('Temperature')\n",
    "\n",
    "ax1.set_xticklabels(labels)\n",
    "plt.grid(color = 'gray', linestyle = '--', linewidth = 0.5)\n",
    "plt.savefig(\"Images/june_vs_december_boxplot.png\")\n",
    "plt.show()"
   ]
  },
  {
   "cell_type": "markdown",
   "metadata": {},
   "source": [
    "### Conclusion"
   ]
  },
  {
   "cell_type": "markdown",
   "metadata": {},
   "source": [
    "##### Use the t-test to determine whether the difference in the means, if any, is statistically significant. \n",
    "Based on the calculation, the p-value for the ttest is 4.193529835915755e-187 (near zero).\n",
    "\n",
    "The smaller p-value the higher statically significance. A p-value of less than 0.05 implies significance and that of less than 0.01 implies high significance. \n",
    "\n",
    "This p value implies very high statiscally significance and therefore the null hypothesis should be rejected. \n",
    "\n",
    "The differences between mean and median (i.e. second quantile) for June and December is quite small, which shows there is no meaningful difference between the temperature in Hawaii for June & December.\n",
    "\n",
    "##### Will you use a paired t-test, or an unpaired t-test? Why?\n",
    "\n",
    "Recommend to use unpaired t-test as there are two significant different populations.\n",
    "\n",
    "The histogram plot for the temperatures recorded in June (denotes in green) tends to have a much more normal, tight bell curve distribution, supported by the smaller standard deviation compares to December (denotes in red) temperatures.\n",
    "\n",
    "The box plot for the December temperatures seem to be more variable than those in June given its larger range in recorded temperatures."
   ]
  },
  {
   "cell_type": "code",
   "execution_count": null,
   "metadata": {},
   "outputs": [],
   "source": []
  }
 ],
 "metadata": {
  "kernelspec": {
   "display_name": "Python 3 (ipykernel)",
   "language": "python",
   "name": "python3"
  },
  "language_info": {
   "codemirror_mode": {
    "name": "ipython",
    "version": 3
   },
   "file_extension": ".py",
   "mimetype": "text/x-python",
   "name": "python",
   "nbconvert_exporter": "python",
   "pygments_lexer": "ipython3",
   "version": "3.9.7"
  }
 },
 "nbformat": 4,
 "nbformat_minor": 4
}
