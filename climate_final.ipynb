{
 "cells": [
  {
   "cell_type": "code",
   "execution_count": 1,
   "metadata": {
    "ExecuteTime": {
     "end_time": "2022-01-23T05:57:55.000316Z",
     "start_time": "2022-01-23T05:57:53.474749Z"
    }
   },
   "outputs": [],
   "source": [
    "# Set up, import dependencies\n",
    "%matplotlib inline\n",
    "from matplotlib import style\n",
    "style.use('fivethirtyeight')\n",
    "import matplotlib.pyplot as plt\n",
    "import matplotlib.dates as mdates"
   ]
  },
  {
   "cell_type": "code",
   "execution_count": 2,
   "metadata": {
    "ExecuteTime": {
     "end_time": "2022-01-23T05:57:55.379742Z",
     "start_time": "2022-01-23T05:57:55.002317Z"
    }
   },
   "outputs": [],
   "source": [
    "import numpy as np\n",
    "import pandas as pd\n",
    "import datetime as dt, datetime\n",
    "from datetime import timedelta"
   ]
  },
  {
   "cell_type": "code",
   "execution_count": 3,
   "metadata": {
    "ExecuteTime": {
     "end_time": "2022-01-23T05:57:55.395745Z",
     "start_time": "2022-01-23T05:57:55.380744Z"
    }
   },
   "outputs": [],
   "source": [
    "import warnings\n",
    "warnings.filterwarnings('ignore')"
   ]
  },
  {
   "cell_type": "markdown",
   "metadata": {},
   "source": [
    "# Reflect Tables into SQLAlchemy ORM"
   ]
  },
  {
   "cell_type": "code",
   "execution_count": 4,
   "metadata": {
    "ExecuteTime": {
     "end_time": "2022-01-23T05:57:55.650803Z",
     "start_time": "2022-01-23T05:57:55.397748Z"
    }
   },
   "outputs": [],
   "source": [
    "# Python SQL toolkit and Object Relational Mapper\n",
    "import sqlalchemy as sql\n",
    "from sqlalchemy.ext.automap import automap_base\n",
    "from sqlalchemy.orm import Session\n",
    "from sqlalchemy import *\n"
   ]
  },
  {
   "cell_type": "code",
   "execution_count": 5,
   "metadata": {
    "ExecuteTime": {
     "end_time": "2022-01-23T05:57:55.666807Z",
     "start_time": "2022-01-23T05:57:55.652805Z"
    }
   },
   "outputs": [],
   "source": [
    "# Create engine to hawaii.sqlite\n",
    "engine = create_engine(\"sqlite:///Resources/hawaii.sqlite\")"
   ]
  },
  {
   "cell_type": "code",
   "execution_count": 6,
   "metadata": {
    "ExecuteTime": {
     "end_time": "2022-01-23T05:57:55.698814Z",
     "start_time": "2022-01-23T05:57:55.668809Z"
    }
   },
   "outputs": [],
   "source": [
    "# Reflect an existing database into a new model\n",
    "Base = automap_base()\n",
    "# Reflect the tables\n",
    "Base.prepare(engine, reflect=True)"
   ]
  },
  {
   "cell_type": "code",
   "execution_count": 7,
   "metadata": {
    "ExecuteTime": {
     "end_time": "2022-01-23T05:57:55.714819Z",
     "start_time": "2022-01-23T05:57:55.700815Z"
    }
   },
   "outputs": [
    {
     "data": {
      "text/plain": [
       "['measurement', 'station']"
      ]
     },
     "execution_count": 7,
     "metadata": {},
     "output_type": "execute_result"
    }
   ],
   "source": [
    "# Show all of the tables that automap found\n",
    "Base.classes.keys()"
   ]
  },
  {
   "cell_type": "code",
   "execution_count": 8,
   "metadata": {
    "ExecuteTime": {
     "end_time": "2022-01-23T05:57:55.730822Z",
     "start_time": "2022-01-23T05:57:55.716820Z"
    }
   },
   "outputs": [],
   "source": [
    "# Save references to each table\n",
    "Measurement = Base.classes.measurement\n",
    "Station = Base.classes.station"
   ]
  },
  {
   "cell_type": "code",
   "execution_count": 9,
   "metadata": {
    "ExecuteTime": {
     "end_time": "2022-01-23T05:57:55.746824Z",
     "start_time": "2022-01-23T05:57:55.731822Z"
    }
   },
   "outputs": [],
   "source": [
    "# Create our session (link) from Python to the DB\n",
    "session = Session(engine)"
   ]
  },
  {
   "cell_type": "markdown",
   "metadata": {},
   "source": [
    "# Exploratory Precipitation Analysis"
   ]
  },
  {
   "cell_type": "code",
   "execution_count": 10,
   "metadata": {
    "ExecuteTime": {
     "end_time": "2022-01-23T05:57:55.762829Z",
     "start_time": "2022-01-23T05:57:55.748827Z"
    }
   },
   "outputs": [
    {
     "data": {
      "text/plain": [
       "[(1, 'USC00519397', '2010-01-01', 0.08, 65.0),\n",
       " (2, 'USC00519397', '2010-01-02', 0.0, 63.0),\n",
       " (3, 'USC00519397', '2010-01-03', 0.0, 74.0),\n",
       " (4, 'USC00519397', '2010-01-04', 0.0, 76.0),\n",
       " (5, 'USC00519397', '2010-01-06', None, 73.0)]"
      ]
     },
     "execution_count": 10,
     "metadata": {},
     "output_type": "execute_result"
    }
   ],
   "source": [
    "# Query all columns in Measurement table, limit to first 5 row\n",
    "measurement_tab = engine.execute('select * from Measurement limit 5').fetchall()\n",
    "measurement_tab"
   ]
  },
  {
   "cell_type": "code",
   "execution_count": 11,
   "metadata": {
    "ExecuteTime": {
     "end_time": "2022-01-23T05:57:55.778832Z",
     "start_time": "2022-01-23T05:57:55.763829Z"
    }
   },
   "outputs": [
    {
     "name": "stdout",
     "output_type": "stream",
     "text": [
      "id INTEGER\n",
      "station TEXT\n",
      "date TEXT\n",
      "prcp FLOAT\n",
      "tobs FLOAT\n"
     ]
    }
   ],
   "source": [
    "# Inspect table Measurement\n",
    "inspector = inspect(engine)\n",
    "columns = inspector.get_columns('Measurement')\n",
    "for column in columns:\n",
    "    print(column[\"name\"], column[\"type\"])"
   ]
  },
  {
   "cell_type": "code",
   "execution_count": 12,
   "metadata": {
    "ExecuteTime": {
     "end_time": "2022-01-23T05:57:55.793837Z",
     "start_time": "2022-01-23T05:57:55.780836Z"
    }
   },
   "outputs": [
    {
     "data": {
      "text/plain": [
       "{'_sa_instance_state': <sqlalchemy.orm.state.InstanceState at 0x1d34934abb0>,\n",
       " 'date': '2010-01-01',\n",
       " 'id': 1,\n",
       " 'prcp': 0.08,\n",
       " 'tobs': 65.0,\n",
       " 'station': 'USC00519397'}"
      ]
     },
     "execution_count": 12,
     "metadata": {},
     "output_type": "execute_result"
    }
   ],
   "source": [
    "# Check data in Measurement table\n",
    "measurement_row1 = session.query(Measurement).first()\n",
    "measurement_row1.__dict__"
   ]
  },
  {
   "cell_type": "code",
   "execution_count": 13,
   "metadata": {
    "ExecuteTime": {
     "end_time": "2022-01-23T05:57:55.808839Z",
     "start_time": "2022-01-23T05:57:55.795838Z"
    }
   },
   "outputs": [
    {
     "data": {
      "text/plain": [
       "[(1, 'USC00519397', 'WAIKIKI 717.2, HI US', 21.2716, -157.8168, 3.0),\n",
       " (2, 'USC00513117', 'KANEOHE 838.1, HI US', 21.4234, -157.8015, 14.6),\n",
       " (3, 'USC00514830', 'KUALOA RANCH HEADQUARTERS 886.9, HI US', 21.5213, -157.8374, 7.0),\n",
       " (4, 'USC00517948', 'PEARL CITY, HI US', 21.3934, -157.9751, 11.9),\n",
       " (5, 'USC00518838', 'UPPER WAHIAWA 874.3, HI US', 21.4992, -158.0111, 306.6),\n",
       " (6, 'USC00519523', 'WAIMANALO EXPERIMENTAL FARM, HI US', 21.33556, -157.71139, 19.5),\n",
       " (7, 'USC00519281', 'WAIHEE 837.5, HI US', 21.45167, -157.84888999999998, 32.9),\n",
       " (8, 'USC00511918', 'HONOLULU OBSERVATORY 702.2, HI US', 21.3152, -157.9992, 0.9),\n",
       " (9, 'USC00516128', 'MANOA LYON ARBO 785.2, HI US', 21.3331, -157.8025, 152.4)]"
      ]
     },
     "execution_count": 13,
     "metadata": {},
     "output_type": "execute_result"
    }
   ],
   "source": [
    "# Query all columns of the table Station\n",
    "station_tab = engine.execute('select * from Station').fetchall()\n",
    "station_tab"
   ]
  },
  {
   "cell_type": "code",
   "execution_count": 14,
   "metadata": {
    "ExecuteTime": {
     "end_time": "2022-01-23T05:57:55.824843Z",
     "start_time": "2022-01-23T05:57:55.809840Z"
    }
   },
   "outputs": [
    {
     "name": "stdout",
     "output_type": "stream",
     "text": [
      "id INTEGER\n",
      "station TEXT\n",
      "name TEXT\n",
      "latitude FLOAT\n",
      "longitude FLOAT\n",
      "elevation FLOAT\n"
     ]
    }
   ],
   "source": [
    "# Inspect table Station\n",
    "inspector = inspect(engine)\n",
    "columns = inspector.get_columns('Station')\n",
    "for column in columns:\n",
    "    print(column[\"name\"], column[\"type\"])"
   ]
  },
  {
   "cell_type": "code",
   "execution_count": 15,
   "metadata": {
    "ExecuteTime": {
     "end_time": "2022-01-23T05:57:55.840130Z",
     "start_time": "2022-01-23T05:57:55.826845Z"
    }
   },
   "outputs": [
    {
     "data": {
      "text/plain": [
       "{'_sa_instance_state': <sqlalchemy.orm.state.InstanceState at 0x1d349384100>,\n",
       " 'station': 'USC00519397',\n",
       " 'name': 'WAIKIKI 717.2, HI US',\n",
       " 'longitude': -157.8168,\n",
       " 'id': 1,\n",
       " 'latitude': 21.2716,\n",
       " 'elevation': 3.0}"
      ]
     },
     "execution_count": 15,
     "metadata": {},
     "output_type": "execute_result"
    }
   ],
   "source": [
    "# Check data in Measurement table\n",
    "station_row1 = session.query(Station).first()\n",
    "station_row1.__dict__"
   ]
  },
  {
   "cell_type": "code",
   "execution_count": 16,
   "metadata": {
    "ExecuteTime": {
     "end_time": "2022-01-23T05:57:55.856131Z",
     "start_time": "2022-01-23T05:57:55.842129Z"
    }
   },
   "outputs": [
    {
     "name": "stdout",
     "output_type": "stream",
     "text": [
      "\u001b[94m\u001b[1mThe most recent date in the data set is: 2017-08-23\u001b[0m\n"
     ]
    }
   ],
   "source": [
    "# Find the most recent date in the data set.\n",
    "recent_date_q = session.query(Measurement.date).order_by(Measurement.date.desc()).first()\n",
    "\n",
    "# Convert the most recent_date string into datetime type\n",
    "recent_date = pd.to_datetime(pd.Series(recent_date_q[0]), format=\"%Y/%m/%d\").dt.date\n",
    "print(f\"\\033[94m\\033[1mThe most recent date in the data set is: {recent_date[0]}\\033[0m\")"
   ]
  },
  {
   "cell_type": "code",
   "execution_count": 17,
   "metadata": {
    "ExecuteTime": {
     "end_time": "2022-01-23T05:57:55.872136Z",
     "start_time": "2022-01-23T05:57:55.858133Z"
    }
   },
   "outputs": [
    {
     "data": {
      "text/plain": [
       "datetime.date(2016, 8, 23)"
      ]
     },
     "execution_count": 17,
     "metadata": {},
     "output_type": "execute_result"
    }
   ],
   "source": [
    "# Calculate the date one year (i.e. 365 days) from the last date in data set.\n",
    "one_year = recent_date - dt.timedelta(days=365)\n",
    "\n",
    "# Convert object to datetime format\n",
    "a_year_range = one_year[0]\n",
    "a_year_range"
   ]
  },
  {
   "cell_type": "code",
   "execution_count": 18,
   "metadata": {
    "ExecuteTime": {
     "end_time": "2022-01-23T05:57:55.887138Z",
     "start_time": "2022-01-23T05:57:55.874136Z"
    }
   },
   "outputs": [],
   "source": [
    "# Perform a query to retrieve the data and precipitation scores\n",
    "prcp_score = session.query(Measurement.date, Measurement.prcp).filter(Measurement.date >= a_year_range).\\\n",
    "            order_by(Measurement.date).all()\n"
   ]
  },
  {
   "cell_type": "code",
   "execution_count": 19,
   "metadata": {
    "ExecuteTime": {
     "end_time": "2022-01-23T05:57:55.919145Z",
     "start_time": "2022-01-23T05:57:55.888139Z"
    }
   },
   "outputs": [],
   "source": [
    "# Save the query results as a Pandas DataFrame\n",
    "prcp_score_df = []\n",
    "prcp_score_df = pd.DataFrame(prcp_score, columns=[\"date\",\"precipitation\"])\n",
    "\n",
    "# Sort the dataframe by date\n",
    "prcp_score_df = prcp_score_df.sort_values(by='date')\n",
    "\n",
    "# Set date as index column for plotting graph\n",
    "prcp_score_df = prcp_score_df.set_index(\"date\")"
   ]
  },
  {
   "cell_type": "code",
   "execution_count": 20,
   "metadata": {
    "ExecuteTime": {
     "end_time": "2022-01-23T05:57:56.380890Z",
     "start_time": "2022-01-23T05:57:55.921147Z"
    }
   },
   "outputs": [
    {
     "data": {
      "image/png": "[encoded data removed]",
      "text/plain": [
       "<Figure size 864x360 with 1 Axes>"
      ]
     },
     "metadata": {},
     "output_type": "display_data"
    }
   ],
   "source": [
    "# Use Pandas Plotting with Matplotlib to plot the data\n",
    "prcp_score_df.plot(figsize=(12,5))\n",
    "plt.title(\"Precipitation Analysis from 2016-08-23 to 2017-08-23\")\n",
    "plt.xticks(rotation=90, fontsize=8)\n",
    "plt.xlabel(\"Date\")\n",
    "plt.ylabel(\"Inches\")\n",
    "plt.tight_layout()\n",
    "\n",
    "# Save graph to file\n",
    "plt.savefig(\"Images/prcp.png\")\n",
    "\n",
    "plt.show()\n"
   ]
  },
  {
   "cell_type": "code",
   "execution_count": 21,
   "metadata": {
    "ExecuteTime": {
     "end_time": "2022-01-23T05:57:56.412898Z",
     "start_time": "2022-01-23T05:57:56.382896Z"
    }
   },
   "outputs": [
    {
     "name": "stdout",
     "output_type": "stream",
     "text": [
      "\u001b[94m\u001b[1mThe table below is the summary statistics for the precipitation data:\u001b[0m\n"
     ]
    },
    {
     "data": {
      "text/html": [
       "<div>\n",
       "<style scoped>\n",
       "    .dataframe tbody tr th:only-of-type {\n",
       "        vertical-align: middle;\n",
       "    }\n",
       "\n",
       "    .dataframe tbody tr th {\n",
       "        vertical-align: top;\n",
       "    }\n",
       "\n",
       "    .dataframe thead th {\n",
       "        text-align: right;\n",
       "    }\n",
       "</style>\n",
       "<table border=\"1\" class=\"dataframe\">\n",
       "  <thead>\n",
       "    <tr style=\"text-align: right;\">\n",
       "      <th></th>\n",
       "      <th>precipitation</th>\n",
       "    </tr>\n",
       "  </thead>\n",
       "  <tbody>\n",
       "    <tr>\n",
       "      <th>count</th>\n",
       "      <td>2021.000000</td>\n",
       "    </tr>\n",
       "    <tr>\n",
       "      <th>mean</th>\n",
       "      <td>0.177279</td>\n",
       "    </tr>\n",
       "    <tr>\n",
       "      <th>std</th>\n",
       "      <td>0.461190</td>\n",
       "    </tr>\n",
       "    <tr>\n",
       "      <th>min</th>\n",
       "      <td>0.000000</td>\n",
       "    </tr>\n",
       "    <tr>\n",
       "      <th>25%</th>\n",
       "      <td>0.000000</td>\n",
       "    </tr>\n",
       "    <tr>\n",
       "      <th>50%</th>\n",
       "      <td>0.020000</td>\n",
       "    </tr>\n",
       "    <tr>\n",
       "      <th>75%</th>\n",
       "      <td>0.130000</td>\n",
       "    </tr>\n",
       "    <tr>\n",
       "      <th>max</th>\n",
       "      <td>6.700000</td>\n",
       "    </tr>\n",
       "  </tbody>\n",
       "</table>\n",
       "</div>"
      ],
      "text/plain": [
       "       precipitation\n",
       "count    2021.000000\n",
       "mean        0.177279\n",
       "std         0.461190\n",
       "min         0.000000\n",
       "25%         0.000000\n",
       "50%         0.020000\n",
       "75%         0.130000\n",
       "max         6.700000"
      ]
     },
     "execution_count": 21,
     "metadata": {},
     "output_type": "execute_result"
    }
   ],
   "source": [
    "# Use Pandas to calculate the summary statistics for the precipitation data\n",
    "print(f\"\\033[94m\\033[1mThe table below is the summary statistics for the precipitation data:\\033[0m\")\n",
    "prcp_score_df.describe()"
   ]
  },
  {
   "cell_type": "markdown",
   "metadata": {},
   "source": [
    "# Exploratory Station Analysis"
   ]
  },
  {
   "cell_type": "code",
   "execution_count": 22,
   "metadata": {
    "ExecuteTime": {
     "end_time": "2022-01-23T05:57:56.428902Z",
     "start_time": "2022-01-23T05:57:56.413900Z"
    }
   },
   "outputs": [
    {
     "name": "stdout",
     "output_type": "stream",
     "text": [
      "\u001b[94m\u001b[1mThe total number of stations in this dataset is: 9\u001b[0m\n"
     ]
    }
   ],
   "source": [
    "# Design a query to calculate the total number stations in the dataset\n",
    "total_station = session.query(Station.station).distinct().count()\n",
    "\n",
    "print(f\"\\033[94m\\033[1mThe total number of stations in this dataset is: {total_station}\\033[0m\")"
   ]
  },
  {
   "cell_type": "code",
   "execution_count": 23,
   "metadata": {
    "ExecuteTime": {
     "end_time": "2022-01-23T05:57:56.460909Z",
     "start_time": "2022-01-23T05:57:56.430904Z"
    }
   },
   "outputs": [
    {
     "name": "stdout",
     "output_type": "stream",
     "text": [
      "\u001b[94m\u001b[1mBelow is the list of the active stations:\u001b[0m\n"
     ]
    },
    {
     "data": {
      "text/plain": [
       "[('USC00519281', 2772),\n",
       " ('USC00519397', 2724),\n",
       " ('USC00513117', 2709),\n",
       " ('USC00519523', 2669),\n",
       " ('USC00516128', 2612),\n",
       " ('USC00514830', 2202),\n",
       " ('USC00511918', 1979),\n",
       " ('USC00517948', 1372),\n",
       " ('USC00518838', 511)]"
      ]
     },
     "execution_count": 23,
     "metadata": {},
     "output_type": "execute_result"
    }
   ],
   "source": [
    "# Design a query to find the most active stations (i.e. what stations have the most rows?)\n",
    "# List the stations and the counts in descending order.\n",
    "active_stations_list = session.query(Measurement.station,func.count(Measurement.station)).\\\n",
    "                        group_by(Measurement.station).\\\n",
    "                        order_by(func.count(Measurement.station).desc()).all()\n",
    "print(f\"\\033[94m\\033[1mBelow is the list of the active stations:\\033[0m\")\n",
    "active_stations_list"
   ]
  },
  {
   "cell_type": "code",
   "execution_count": 24,
   "metadata": {
    "ExecuteTime": {
     "end_time": "2022-01-23T05:57:56.476916Z",
     "start_time": "2022-01-23T05:57:56.461911Z"
    }
   },
   "outputs": [
    {
     "name": "stdout",
     "output_type": "stream",
     "text": [
      "\u001b[94m\u001b[1mThe most active station is: 'USC00519281'\u001b[0m\n"
     ]
    }
   ],
   "source": [
    "# Get the most active stations name & id\n",
    "most_active_station = session.query(Measurement.station).\\\n",
    "                        group_by(Measurement.station).\\\n",
    "                        order_by(func.count(Measurement.station).desc()).first()\n",
    "\n",
    "most_active_station_id = most_active_station[0]\n",
    "# most_active_station_name = most_active_station[1]\n",
    "print(f\"\\033[94m\\033[1mThe most active station is: '{most_active_station_id}'\\033[0m\")"
   ]
  },
  {
   "cell_type": "code",
   "execution_count": 25,
   "metadata": {
    "ExecuteTime": {
     "end_time": "2022-01-23T05:57:56.492916Z",
     "start_time": "2022-01-23T05:57:56.477913Z"
    }
   },
   "outputs": [],
   "source": [
    "# Using the most active station name from the previous query, calculate the lowest, highest, and average temperature.\n",
    "\n",
    "# Setup query variable for min, max and average temperation\n",
    "cal_stats = [func.min(Measurement.tobs), func.max(Measurement.tobs),func.avg(Measurement.tobs)]\n",
    "\n",
    "# Query the active station name \n",
    "most_active_station_temp = session.query(*cal_stats).\\\n",
    "    filter(Measurement.station == most_active_station_id).all()\n"
   ]
  },
  {
   "cell_type": "code",
   "execution_count": 26,
   "metadata": {
    "ExecuteTime": {
     "end_time": "2022-01-23T05:57:56.508920Z",
     "start_time": "2022-01-23T05:57:56.494918Z"
    }
   },
   "outputs": [
    {
     "name": "stdout",
     "output_type": "stream",
     "text": [
      "\u001b[94m\u001b[1mThe temperature of the most active station 'USC00519281' is:\u001b[0m\n"
     ]
    },
    {
     "data": {
      "text/html": [
       "<div>\n",
       "<style scoped>\n",
       "    .dataframe tbody tr th:only-of-type {\n",
       "        vertical-align: middle;\n",
       "    }\n",
       "\n",
       "    .dataframe tbody tr th {\n",
       "        vertical-align: top;\n",
       "    }\n",
       "\n",
       "    .dataframe thead th {\n",
       "        text-align: right;\n",
       "    }\n",
       "</style>\n",
       "<table border=\"1\" class=\"dataframe\">\n",
       "  <thead>\n",
       "    <tr style=\"text-align: right;\">\n",
       "      <th></th>\n",
       "      <th>Lowest (min)</th>\n",
       "      <th>Highest (Max)</th>\n",
       "      <th>Average</th>\n",
       "    </tr>\n",
       "  </thead>\n",
       "  <tbody>\n",
       "    <tr>\n",
       "      <th>0</th>\n",
       "      <td>54.0</td>\n",
       "      <td>85.0</td>\n",
       "      <td>71.663781</td>\n",
       "    </tr>\n",
       "  </tbody>\n",
       "</table>\n",
       "</div>"
      ],
      "text/plain": [
       "   Lowest (min)  Highest (Max)    Average\n",
       "0          54.0           85.0  71.663781"
      ]
     },
     "execution_count": 26,
     "metadata": {},
     "output_type": "execute_result"
    }
   ],
   "source": [
    "# Turn the results that returned by the query into dataframe for displaying\n",
    "active_station_df = []\n",
    "active_station_df = pd.DataFrame(most_active_station_temp, columns=[\"Lowest (min)\", \"Highest (Max)\", \"Average\"])\n",
    "print(f\"\\033[94m\\033[1mThe temperature of the most active station '{most_active_station_id}' is:\\033[0m\")\n",
    "active_station_df"
   ]
  },
  {
   "cell_type": "code",
   "execution_count": 27,
   "metadata": {
    "ExecuteTime": {
     "end_time": "2022-01-23T05:57:56.524923Z",
     "start_time": "2022-01-23T05:57:56.509921Z"
    }
   },
   "outputs": [],
   "source": [
    "# Using the most active station name\n",
    "# Query the last 12 months of temperature observation data for this station \n",
    "last_12_months_data = session.query(Measurement.tobs).\\\n",
    "                filter(Measurement.date >= a_year_range).\\\n",
    "                filter(Measurement.station == most_active_station_id).\\\n",
    "                order_by(Measurement.date).all()\n",
    "\n",
    "# Convert query data into dataframe for ploting\n",
    "last_12_months_data_df = pd.DataFrame(last_12_months_data, columns=[\"tobs\"])\n"
   ]
  },
  {
   "cell_type": "code",
   "execution_count": 28,
   "metadata": {
    "ExecuteTime": {
     "end_time": "2022-01-23T05:57:56.860000Z",
     "start_time": "2022-01-23T05:57:56.527927Z"
    }
   },
   "outputs": [
    {
     "data": {
      "image/png": "[encoded data removed]",
      "text/plain": [
       "<Figure size 720x576 with 1 Axes>"
      ]
     },
     "metadata": {},
     "output_type": "display_data"
    }
   ],
   "source": [
    "# Plot the Results as a Histogram with `bins=12`\n",
    "last_12_months_data_df.plot.hist(bins=12, title=\"Last 12 Months of Temperature Obsesrvation Data\",figsize=(10,8))\n",
    "plt.xlabel(\"Temperature\")\n",
    "plt.tight_layout()\n",
    "plt.savefig(\"Images/last_12_months_tobs.png\")\n",
    "plt.show()"
   ]
  },
  {
   "cell_type": "markdown",
   "metadata": {},
   "source": [
    "# Close session"
   ]
  },
  {
   "cell_type": "code",
   "execution_count": 29,
   "metadata": {
    "ExecuteTime": {
     "end_time": "2022-01-23T05:57:56.876003Z",
     "start_time": "2022-01-23T05:57:56.862002Z"
    }
   },
   "outputs": [],
   "source": [
    "# Close Session\n",
    "session.close()"
   ]
  }
 ],
 "metadata": {
  "anaconda-cloud": {},
  "kernel_info": {
   "name": "python3"
  },
  "kernelspec": {
   "display_name": "Python 3 (ipykernel)",
   "language": "python",
   "name": "python3"
  },
  "language_info": {
   "codemirror_mode": {
    "name": "ipython",
    "version": 3
   },
   "file_extension": ".py",
   "mimetype": "text/x-python",
   "name": "python",
   "nbconvert_exporter": "python",
   "pygments_lexer": "ipython3",
   "version": "3.9.7"
  },
  "nteract": {
   "version": "0.12.3"
  },
  "varInspector": {
   "cols": {
    "lenName": 16,
    "lenType": 16,
    "lenVar": 40
   },
   "kernels_config": {
    "python": {
     "delete_cmd_postfix": "",
     "delete_cmd_prefix": "del ",
     "library": "var_list.py",
     "varRefreshCmd": "print(var_dic_list())"
    },
    "r": {
     "delete_cmd_postfix": ") ",
     "delete_cmd_prefix": "rm(",
     "library": "var_list.r",
     "varRefreshCmd": "cat(var_dic_list()) "
    }
   },
   "types_to_exclude": [
    "module",
    "function",
    "builtin_function_or_method",
    "instance",
    "_Feature"
   ],
   "window_display": false
  }
 },
 "nbformat": 4,
 "nbformat_minor": 2
}
